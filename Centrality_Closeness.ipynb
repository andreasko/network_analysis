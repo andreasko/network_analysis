{
 "cells": [
  {
   "cell_type": "markdown",
   "metadata": {},
   "source": [
    "# $$ \\mathrm{Network-Analysis} $$"
   ]
  },
  {
   "cell_type": "code",
   "execution_count": 1,
   "metadata": {
    "collapsed": false
   },
   "outputs": [],
   "source": [
    "import sys\n",
    "#sys.path.append(\"/home/andreasko/projects/SFB910_B10_Simulation_disease_spreading_on_networks\")\n",
    "sys.path.append(\"/usr/lib/python2.7/dist-packages\")"
   ]
  },
  {
   "cell_type": "code",
   "execution_count": 2,
   "metadata": {
    "collapsed": false
   },
   "outputs": [],
   "source": [
    "import numpy            as np\n",
    "import graph_tool.all as gt\n",
    "import matplotlib.pyplot as plt\n",
    "from collections import defaultdict"
   ]
  },
  {
   "cell_type": "code",
   "execution_count": 3,
   "metadata": {
    "collapsed": false
   },
   "outputs": [
    {
     "name": "stdout",
     "output_type": "stream",
     "text": [
      "number of nodes  97980\n",
      "number of edges  315333\n"
     ]
    }
   ],
   "source": [
    "g = gt.load_graph(\"HIT.xml.gz\")\n",
    "pw = g.edge_properties[\"weight\"]\n",
    "iw = g.edge_properties[\"inv_weight\"]\n",
    "rw = g.edge_properties[\"rw_weight\"]\n",
    "print \"number of nodes \", g.num_vertices()\n",
    "print \"number of edges \", g.num_edges()"
   ]
  },
  {
   "cell_type": "markdown",
   "metadata": {},
   "source": [
    "# $$ -------------------------------\\\\ Closeness-Centrality$$"
   ]
  },
  {
   "cell_type": "markdown",
   "metadata": {},
   "source": [
    "###### graph tool normalisiert nicht über die Cluster-Größe, sondern über den Out-Degree. Das Ergebnis unterscheidet sich (unter anderem) dadurch zur NetworkX-Berechnung"
   ]
  },
  {
   "cell_type": "code",
   "execution_count": null,
   "metadata": {
    "collapsed": false
   },
   "outputs": [],
   "source": [
    "g.set_vertex_filter( gt.label_largest_component(g, directed=True) )\n",
    "closeness = gt.closeness(g, weight=rw)\n",
    "data = np.sort(closeness.fa)\n",
    "values  = np.unique(data)\n",
    "pdf = [np.count_nonzero(data == v) for v in values]\n",
    "cdf = np.cumsum(pdf).astype(float)\n",
    "cdf *= 1./cdf[-1]\n",
    "ccdf = 1.-cdf"
   ]
  },
  {
   "cell_type": "code",
   "execution_count": 5,
   "metadata": {
    "collapsed": false
   },
   "outputs": [
    {
     "data": {
      "text/plain": [
       "<matplotlib.text.Text at 0x7fbf3d002910>"
      ]
     },
     "execution_count": 5,
     "metadata": {},
     "output_type": "execute_result"
    },
    {
     "data": {
      "image/png": "[encoded data removed]",
      "text/plain": [
       "<matplotlib.figure.Figure at 0x7fbf3d942690>"
      ]
     },
     "metadata": {},
     "output_type": "display_data"
    }
   ],
   "source": [
    "%matplotlib inline\n",
    "plt.figure()\n",
    "plt.loglog(values,ccdf,'b.')\n",
    "plt.xlabel('closeness')\n",
    "plt.ylabel(r'$P(x>X)$')"
   ]
  },
  {
   "cell_type": "markdown",
   "metadata": {},
   "source": [
    "# $$ ------------------------------- \\\\ \\mathrm{Vulnerability-Analysis} $$"
   ]
  },
  {
   "cell_type": "code",
   "execution_count": 5,
   "metadata": {
    "collapsed": false
   },
   "outputs": [
    {
     "data": {
      "text/plain": [
       "<matplotlib.text.Text at 0x7f39c8920390>"
      ]
     },
     "execution_count": 5,
     "metadata": {},
     "output_type": "execute_result"
    },
    {
     "data": {
      "image/png": "[encoded data removed]",
      "text/plain": [
       "<matplotlib.figure.Figure at 0x7f39cabda1d0>"
      ]
     },
     "metadata": {},
     "output_type": "display_data"
    }
   ],
   "source": [
    "%matplotlib inline\n",
    "result = np.load('closeness_centrality_filtered.npz')\n",
    "N = result['N']\n",
    "size = result['size'][0:N]\n",
    "max_score = result['max_score'][0:N]\n",
    "\n",
    "fig = plt.figure(figsize=(15,5))\n",
    "ax1 = fig.add_subplot(121)\n",
    "ax1.plot(range(N),size,'b-')\n",
    "ax1.set_ylabel('GSCC')\n",
    "ax1.set_xlabel('number of removed nodes')\n",
    "\n",
    "ax2 = plt.subplot(122)\n",
    "ax2.loglog(range(N),max_score,'k.')\n",
    "ax2.set_xlabel('iteration step')\n",
    "ax2.set_ylabel('maximum closeness')"
   ]
  },
  {
   "cell_type": "markdown",
   "metadata": {},
   "source": [
    "# $$ ------------------------------\\\\ Submit~a~job $$"
   ]
  },
  {
   "cell_type": "code",
   "execution_count": 6,
   "metadata": {
    "collapsed": false,
    "scrolled": true
   },
   "outputs": [
    {
     "name": "stdout",
     "output_type": "stream",
     "text": [
      " ___________________________________________\n",
      "/ ----------------------------------------- \\\n",
      "| | DIE Q INFORMIERT:                     | |\n",
      "| | Condor under normal Operation   !     | |\n",
      "| | Die Option speed option wurde geändert| |\n",
      "\\ ----------------------------------------- /\n",
      " -------------------------------------------\n",
      "        \\   ^__^\n",
      "         \\  (oo)\\_______\n",
      "            (__)\\       )\\/\\\n",
      "                ||----w |\n",
      "                ||     ||\n",
      "This is qpy-condor wrapper for qsub.\n",
      "send comments or bug-reports to root@itp.tu-berlin.de\n",
      "Set memtype to 4\n",
      "Set speed type to 3\n",
      "Request 8 cores.\n",
      "Add environmental variables 'PYTHONPATH=/usr/glocal/lib64/python2.7/site-packages:/usr/local/lib64/python2.7/site-packages:.' to executed job.\n",
      "Pass Argument '/home/andreasko/netzwerk_analyse/' to submitted binary.\n",
      "Workgroup agschoell detected!\n",
      "\n",
      "Preparing submission file, please wait\n",
      "Output file: /home/andreasko/netzwerk_analyse/closeness_centrality\n",
      "Job prepared with QCONDOR=1;PATH=/home/andreasko/anaconda/bin:/usr/local/subversion-1.8.10/bin:/home/andreasko/bin:/home/andreasko/anaconda/bin:/home/andreasko/anaconda/bin:/usr/local/subversion-1.8.10/bin:/home/andreasko/bin:/home/andreasko/anaconda/bin:/usr/mlocal/bin:/usr/glocal/bin:/usr/local/bin:/usr/bin:/bin:/usr/local/games:/usr/games;;OMP_NUM_THREADS=8;QPY_MAX_MEM_SIZE_KB=2097152;;PYTHONPATH=/usr/glocal/lib64/python2.7/site-packages:/usr/local/lib64/python2.7/site-packages:.\n",
      "condor_submit -name agschoell@physik.tu-berlin.de /home/condor/qwrapper_tmp/condor_temp_jobfile.andreasko\n",
      "Submitting job(s). 1 job(s) submitted to cluster 207975.\n",
      "\n",
      "\n"
     ]
    }
   ],
   "source": [
    "from subprocess import Popen, PIPE, check_call\n",
    "fname = \"/home/andreasko/netzwerk_analyse/\"\n",
    "process = Popen(\"qsub -o %s -m e -mem 4 -speed 3 -numcpus 8 -env PYTHONPATH=%s -args '%s' job_closeness_centrality\"\n",
    "      %(fname+\"closeness_centrality\", \"$PYTHONPATH:.\",fname), shell=True, stdout=PIPE, stderr=PIPE)\n",
    "print process.stdout.read()\n",
    "print process.stderr.read()"
   ]
  },
  {
   "cell_type": "code",
   "execution_count": null,
   "metadata": {
    "collapsed": false
   },
   "outputs": [],
   "source": []
  }
 ],
 "metadata": {
  "kernelspec": {
   "display_name": "Python 2",
   "language": "python",
   "name": "python2"
  },
  "language_info": {
   "codemirror_mode": {
    "name": "ipython",
    "version": 2
   },
   "file_extension": ".py",
   "mimetype": "text/x-python",
   "name": "python",
   "nbconvert_exporter": "python",
   "pygments_lexer": "ipython2",
   "version": "2.7.9"
  }
 },
 "nbformat": 4,
 "nbformat_minor": 0
}
